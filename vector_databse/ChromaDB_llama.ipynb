{
  "nbformat": 4,
  "nbformat_minor": 0,
  "metadata": {
    "colab": {
      "provenance": []
    },
    "kernelspec": {
      "name": "python3",
      "display_name": "Python 3"
    },
    "language_info": {
      "name": "python"
    }
  },
  "cells": [
    {
      "cell_type": "markdown",
      "source": [
        "# ChromaのPythonライブラリをインストール"
      ],
      "metadata": {
        "id": "96w2_FEWpSiK"
      }
    },
    {
      "cell_type": "code",
      "execution_count": null,
      "metadata": {
        "id": "OHKd_p-vpJME"
      },
      "outputs": [],
      "source": [
        "!pip install chromadb"
      ]
    },
    {
      "cell_type": "code",
      "source": [
        "!pip install -U transformers"
      ],
      "metadata": {
        "id": "Ordn0TKMpXY6"
      },
      "execution_count": null,
      "outputs": []
    },
    {
      "cell_type": "markdown",
      "source": [
        "# ライブラリとデータセットをロード"
      ],
      "metadata": {
        "id": "ty8nKTSgpcfg"
      }
    },
    {
      "cell_type": "code",
      "source": [
        "import pandas as pd\n",
        "import chromadb"
      ],
      "metadata": {
        "id": "1piEG8jSpbjX"
      },
      "execution_count": null,
      "outputs": []
    },
    {
      "cell_type": "code",
      "source": [
        "df = pd.read_csv('data.csv')"
      ],
      "metadata": {
        "id": "cul5O88spedv"
      },
      "execution_count": null,
      "outputs": []
    },
    {
      "cell_type": "code",
      "source": [
        "df.info()  # Chromaにデータを入れる際、ChromaのIDはstrかつユニークのみ受け付ける"
      ],
      "metadata": {
        "id": "C-KT8L9lphZ0"
      },
      "execution_count": null,
      "outputs": []
    },
    {
      "cell_type": "code",
      "source": [
        "df.head()"
      ],
      "metadata": {
        "id": "A_lf_Ic3pig0"
      },
      "execution_count": null,
      "outputs": []
    },
    {
      "cell_type": "markdown",
      "source": [
        "今回はA１のタブレットをカスタムEmbeddingを使い探せるようにする\n"
      ],
      "metadata": {
        "id": "vIrfbXPkpmWD"
      }
    },
    {
      "cell_type": "markdown",
      "source": [
        "# Chromaの使い方(Custom Embedding Function)"
      ],
      "metadata": {
        "id": "9x1ZmikAppnX"
      }
    },
    {
      "cell_type": "markdown",
      "source": [
        "## Step 1: ChromaのデータをDiskにセーブ"
      ],
      "metadata": {
        "id": "EbAliquvptwe"
      }
    },
    {
      "cell_type": "code",
      "source": [
        "# testのフォルダーが作られ、chroma.sqlite3が作成される\n",
        "chroma_client = chromadb.PersistentClient(path=\"test\")  # Pathはセーブしたいロケーション　（今回はGoogle Colabなので名前だけ)"
      ],
      "metadata": {
        "id": "yOjQcEzkpqSG"
      },
      "execution_count": null,
      "outputs": []
    },
    {
      "cell_type": "markdown",
      "source": [
        "## Step 2:　カスタムEmbeddingを作成する\n",
        "今回はLLAMAを使用  \n",
        "*SentenceTransfotmerを推奨  \n",
        "APIを使えばOpenAI等のEmneddingを使えるが、従来これらのモデルはエンコード用に作られていない。\n",
        "\n",
        "HuggingFace: https://huggingface.co/tasks/sentence-similarity  \n",
        "Chroma: https://docs.trychroma.com/docs/embeddings/embedding-functions"
      ],
      "metadata": {
        "id": "IjWW9swCpyNv"
      }
    },
    {
      "cell_type": "code",
      "source": [
        "from chromadb import Documents, EmbeddingFunction, Embeddings  # 上書きする為に必要\n",
        "from sentence_transformers import SentenceTransformer # HuggingFaceのライブラリーを使う為\n",
        "\n",
        "#　上書きするのは__call__\n",
        "class CustomEmbeddingFunction(EmbeddingFunction):\n",
        "    def __call__(self, input: Documents, model_name: str = 'thuan9889/llama_embedding_model_v1') -> Embeddings:\n",
        "        sentences = input\n",
        "\n",
        "        model = SentenceTransformer(model_name)  # モデルのロード\n",
        "        embeddings = model.encode(sentences)  # インプットをEmbedding\n",
        "\n",
        "        # リストにコンバート\n",
        "        embeddings_as_list = [embedding.tolist() for embedding in embeddings]\n",
        "\n",
        "        return embeddings_as_list"
      ],
      "metadata": {
        "id": "5FmJI0yBpwa_"
      },
      "execution_count": null,
      "outputs": []
    },
    {
      "cell_type": "markdown",
      "source": [
        "## Step 3: Vector　DatabaseをカスタムEmbeddingと一緒に作成"
      ],
      "metadata": {
        "id": "wWYXIz74p2fo"
      }
    },
    {
      "cell_type": "code",
      "source": [
        "myembedding = CustomEmbeddingFunction()  #　インスタンス化\n",
        "collection = chroma_client.get_or_create_collection(\n",
        "    name=\"test\",\n",
        "    embedding_function=myembedding) #　ディフォルトのembedding_functionを変更"
      ],
      "metadata": {
        "id": "__gUaUXrp4fD"
      },
      "execution_count": null,
      "outputs": []
    },
    {
      "cell_type": "markdown",
      "source": [
        "## Step 4: データをCollectionに加える"
      ],
      "metadata": {
        "id": "w1E88cNVp9U-"
      }
    },
    {
      "cell_type": "code",
      "source": [
        "collection.add(\n",
        "    documents=df['Item'].tolist(),\n",
        "    ids=df['ID'].tolist()\n",
        ")"
      ],
      "metadata": {
        "id": "JdwS7Orpp_DV"
      },
      "execution_count": null,
      "outputs": []
    },
    {
      "cell_type": "code",
      "source": [
        "collection.peek()"
      ],
      "metadata": {
        "id": "5yobgazGqAoN"
      },
      "execution_count": null,
      "outputs": []
    },
    {
      "cell_type": "markdown",
      "source": [
        "## Step 4: Queryを書く"
      ],
      "metadata": {
        "id": "bZ9pCWJjqCZE"
      }
    },
    {
      "cell_type": "code",
      "source": [
        "results = collection.query(\n",
        "    query_texts=[\"Tablet\", \"Printer\"], # 探したいキーワードを入れる\n",
        "    n_results=3 # 欲しい数を入れる：　ディフォルトは10個\n",
        ")\n",
        "results"
      ],
      "metadata": {
        "id": "_Joi7i8TqDik"
      },
      "execution_count": null,
      "outputs": []
    }
  ]
}